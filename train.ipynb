{
 "cells": [
  {
   "cell_type": "code",
   "execution_count": 1,
   "metadata": {
    "collapsed": true
   },
   "outputs": [],
   "source": [
    "from stable_baselines3 import A2C\n",
    "from stable_baselines3.common.evaluation import evaluate_policy\n",
    "\n",
    "from FaaSEnv import FaaSEnv"
   ]
  },
  {
   "cell_type": "code",
   "execution_count": 2,
   "outputs": [
    {
     "name": "stdout",
     "output_type": "stream",
     "text": [
      "=> Loading checkpoint\n",
      "=> Loading success\n"
     ]
    }
   ],
   "source": [
    "env = FaaSEnv()\n",
    "\n",
    "model = A2C(\n",
    "    \"MlpPolicy\",\n",
    "    env=env,\n",
    "    verbose=0,\n",
    "    tensorboard_log=\"./tensorboard/\"\n",
    ")"
   ],
   "metadata": {
    "collapsed": false
   }
  },
  {
   "cell_type": "code",
   "execution_count": null,
   "outputs": [],
   "source": [
    "model.learn(total_timesteps=1e6)"
   ],
   "metadata": {
    "collapsed": false,
    "pycharm": {
     "is_executing": true
    }
   }
  },
  {
   "cell_type": "code",
   "execution_count": null,
   "outputs": [],
   "source": [
    "mean_reward, std_reward = evaluate_policy(model, env, n_eval_episodes=1, render=False)\n",
    "env.close()\n",
    "print(mean_reward, std_reward)"
   ],
   "metadata": {
    "collapsed": false,
    "pycharm": {
     "is_executing": true
    }
   }
  },
  {
   "cell_type": "code",
   "execution_count": null,
   "outputs": [],
   "source": [
    "real = []\n",
    "ppo = []\n",
    "lstm = []\n",
    "\n",
    "obs = env.reset()\n",
    "for _ in range(100):\n",
    "    action, state = model.predict(observation=obs)\n",
    "    ppo.append(action * 100)\n",
    "    obs, reward, done, info = env.step(action)\n",
    "    real.append(obs[0][7] * 100)\n",
    "    lstm.append(obs[2][0] * 100)\n",
    "    env.render()\n",
    "\n",
    "from matplotlib import pyplot as plt\n",
    "\n",
    "plt.plot(real, 'b', label='real')\n",
    "plt.plot(lstm, 'r', label='lstm')\n",
    "plt.plot(ppo, 'g', label='ppo')"
   ],
   "metadata": {
    "collapsed": false,
    "pycharm": {
     "is_executing": true
    }
   }
  },
  {
   "cell_type": "code",
   "execution_count": null,
   "outputs": [],
   "source": [
    "model.save(\"./model/a2c.pkl\")"
   ],
   "metadata": {
    "collapsed": false,
    "pycharm": {
     "is_executing": true
    }
   }
  }
 ],
 "metadata": {
  "kernelspec": {
   "display_name": "Python 3",
   "language": "python",
   "name": "python3"
  },
  "language_info": {
   "codemirror_mode": {
    "name": "ipython",
    "version": 2
   },
   "file_extension": ".py",
   "mimetype": "text/x-python",
   "name": "python",
   "nbconvert_exporter": "python",
   "pygments_lexer": "ipython2",
   "version": "2.7.6"
  }
 },
 "nbformat": 4,
 "nbformat_minor": 0
}
